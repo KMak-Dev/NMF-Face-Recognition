{
 "cells": [
  {
   "cell_type": "code",
   "execution_count": 1,
   "id": "9c60e7b9",
   "metadata": {},
   "outputs": [],
   "source": [
    "import numpy as np\n",
    "import matplotlib.pyplot as plt\n",
    "from sklearn.metrics.pairwise import rbf_kernel"
   ]
  },
  {
   "cell_type": "code",
   "execution_count": 2,
   "id": "2b9b6021",
   "metadata": {},
   "outputs": [
    {
     "data": {
      "image/png": "[encoded data removed]",
      "text/plain": [
       "<Figure size 432x288 with 1 Axes>"
      ]
     },
     "metadata": {
      "needs_background": "light"
     },
     "output_type": "display_data"
    }
   ],
   "source": [
    "# Data Set\n",
    "X = [[0,0],[0.3,0.1],[0.1,-0.1],[-0.1,0.1],[-0.1,-0.1], [-0.2,0.2], [0.2,0.5], \n",
    "     [0.5,0], [0,-0.5], [0.25,-0.5], [1.5,-1.5],[1.5,-1.5],[-1.5,1],[-1.5,-1], \n",
    "     [0,-2], [0,2], [1,2], [2,1], [-1.5,0], [2,0], [0,0.5], [0,-0.2], [1.5,1.5],\n",
    "     [-1,-1.5], [-1,1.5], [1,-2],[-1.3,-0.5], [-0.5,2], [-1,2], [1.5,0.5], [-0.5,-2]\n",
    "    ]\n",
    "\n",
    "# Plotting\n",
    "x = [x[0] for x in X]\n",
    "y = [y[1] for y in X]\n",
    "plt.scatter(x,y, color = \"darkgrey\")\n",
    "plt.title(\"Random Data Set\")\n",
    "plt.show()\n",
    "#print(\"Data Set: \" + str(X))"
   ]
  },
  {
   "cell_type": "code",
   "execution_count": 3,
   "id": "951b644a",
   "metadata": {},
   "outputs": [],
   "source": [
    "def update(W,r):\n",
    "    rep = 0\n",
    "    max_rep = 25\n",
    "    H = np.random.rand(len(W),r)\n",
    "    while rep < max_rep:\n",
    "        rep = rep + 1\n",
    "        B = 0.5\n",
    "        WH = np.matmul(W,H)\n",
    "        HHTH = np.matmul(np.matmul(H,H.T),H)\n",
    "        for i in range(len(W)):\n",
    "            for k in range(r):\n",
    "                H[i,k] = H[i,k] * (1- B + B * WH[i,k] / HHTH[i,k])\n",
    "    return H"
   ]
  },
  {
   "cell_type": "code",
   "execution_count": 4,
   "id": "564b8bf3",
   "metadata": {},
   "outputs": [],
   "source": [
    "K = rbf_kernel(X)\n",
    "H = update(K,2)\n",
    "\n",
    "group0 = []\n",
    "group1 = []\n",
    "for i in range(np.shape(X)[0]):\n",
    "    if H[i][0] > H[i][1]:\n",
    "        group0.append(X[i])\n",
    "    else:\n",
    "        group1.append(X[i])"
   ]
  },
  {
   "cell_type": "code",
   "execution_count": 5,
   "id": "7b234878",
   "metadata": {},
   "outputs": [
    {
     "data": {
      "image/png": "[encoded data removed]",
      "text/plain": [
       "<Figure size 432x288 with 1 Axes>"
      ]
     },
     "metadata": {
      "needs_background": "light"
     },
     "output_type": "display_data"
    }
   ],
   "source": [
    "x0 = [x[0] for x in group0]\n",
    "y0 = [y[1] for y in group0]\n",
    "\n",
    "x1 = [x[0] for x in group1]\n",
    "y1 = [y[1] for y in group1]\n",
    "plt.scatter(x0, y0, color = \"#3D155F\")\n",
    "plt.scatter(x1, y1, color = \"#DF678C\")\n",
    "plt.title(\"Result of Symmetric NMF\")\n",
    "plt.legend([\"Group 1\",\" Group 2\"], loc = \"upper right\", fontsize = \"x-small\", facecolor = \"lightgrey\", markerfirst = False)\n",
    "plt.show()"
   ]
  }
 ],
 "metadata": {
  "kernelspec": {
   "display_name": "Python 3 (ipykernel)",
   "language": "python",
   "name": "python3"
  },
  "language_info": {
   "codemirror_mode": {
    "name": "ipython",
    "version": 3
   },
   "file_extension": ".py",
   "mimetype": "text/x-python",
   "name": "python",
   "nbconvert_exporter": "python",
   "pygments_lexer": "ipython3",
   "version": "3.9.12"
  }
 },
 "nbformat": 4,
 "nbformat_minor": 5
}
